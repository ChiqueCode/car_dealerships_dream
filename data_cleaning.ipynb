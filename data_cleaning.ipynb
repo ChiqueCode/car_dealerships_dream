{
 "cells": [
  {
   "cell_type": "code",
   "execution_count": 3,
   "metadata": {},
   "outputs": [
    {
     "ename": "ModuleNotFoundError",
     "evalue": "No module named 'config'",
     "output_type": "error",
     "traceback": [
      "\u001b[0;31m---------------------------------------------------------------------------\u001b[0m",
      "\u001b[0;31mModuleNotFoundError\u001b[0m                       Traceback (most recent call last)",
      "\u001b[0;32m<ipython-input-3-9b255590c801>\u001b[0m in \u001b[0;36m<module>\u001b[0;34m\u001b[0m\n\u001b[1;32m      9\u001b[0m \u001b[0;32mimport\u001b[0m \u001b[0mwarnings\u001b[0m\u001b[0;34m\u001b[0m\u001b[0;34m\u001b[0m\u001b[0m\n\u001b[1;32m     10\u001b[0m \u001b[0mwarnings\u001b[0m\u001b[0;34m.\u001b[0m\u001b[0mfilterwarnings\u001b[0m\u001b[0;34m(\u001b[0m\u001b[0;34m'ignore'\u001b[0m\u001b[0;34m)\u001b[0m\u001b[0;34m\u001b[0m\u001b[0;34m\u001b[0m\u001b[0m\n\u001b[0;32m---> 11\u001b[0;31m \u001b[0;32mfrom\u001b[0m \u001b[0mconfig\u001b[0m \u001b[0;32mimport\u001b[0m \u001b[0mdb_pass\u001b[0m\u001b[0;34m\u001b[0m\u001b[0;34m\u001b[0m\u001b[0m\n\u001b[0m\u001b[1;32m     12\u001b[0m \u001b[0;32mimport\u001b[0m \u001b[0mpymysql\u001b[0m\u001b[0;34m\u001b[0m\u001b[0;34m\u001b[0m\u001b[0m\n\u001b[1;32m     13\u001b[0m \u001b[0;32mfrom\u001b[0m \u001b[0mfunctools\u001b[0m \u001b[0;32mimport\u001b[0m \u001b[0mreduce\u001b[0m\u001b[0;34m\u001b[0m\u001b[0;34m\u001b[0m\u001b[0m\n",
      "\u001b[0;31mModuleNotFoundError\u001b[0m: No module named 'config'"
     ]
    }
   ],
   "source": [
    "# Dependancies\n",
    "import pandas as pd\n",
    "import os\n",
    "import sqlalchemy\n",
    "from sqlalchemy.ext.automap import automap_base\n",
    "from sqlalchemy.orm import Session\n",
    "from sqlalchemy import create_engine, func, inspect\n",
    "from sqlalchemy import func\n",
    "import warnings\n",
    "warnings.filterwarnings('ignore')\n",
    "from config import db_pass\n",
    "import pymysql\n",
    "from functools import reduce\n",
    "from sqlalchemy import Column, Integer, String, Float\n",
    "import matplotlib.pyplot as plt"
   ]
  },
  {
   "cell_type": "code",
   "execution_count": 4,
   "metadata": {},
   "outputs": [
    {
     "data": {
      "text/html": [
       "<div>\n",
       "<style scoped>\n",
       "    .dataframe tbody tr th:only-of-type {\n",
       "        vertical-align: middle;\n",
       "    }\n",
       "\n",
       "    .dataframe tbody tr th {\n",
       "        vertical-align: top;\n",
       "    }\n",
       "\n",
       "    .dataframe thead th {\n",
       "        text-align: right;\n",
       "    }\n",
       "</style>\n",
       "<table border=\"1\" class=\"dataframe\">\n",
       "  <thead>\n",
       "    <tr style=\"text-align: right;\">\n",
       "      <th></th>\n",
       "      <th>ConsumerID</th>\n",
       "      <th>Zip</th>\n",
       "      <th>latitude</th>\n",
       "      <th>longitude</th>\n",
       "      <th>Audience Count</th>\n",
       "      <th>City</th>\n",
       "      <th>State</th>\n",
       "      <th>Address</th>\n",
       "      <th>Country</th>\n",
       "      <th>Gender</th>\n",
       "      <th>...</th>\n",
       "      <th>Occupation</th>\n",
       "      <th>DwellingType</th>\n",
       "      <th>WorkingWoman</th>\n",
       "      <th>GreenLiving</th>\n",
       "      <th>CreditScore</th>\n",
       "      <th>#Kids</th>\n",
       "      <th>#Adults</th>\n",
       "      <th>AGEBIN</th>\n",
       "      <th>Household Income</th>\n",
       "      <th>Email Address</th>\n",
       "    </tr>\n",
       "  </thead>\n",
       "  <tbody>\n",
       "    <tr>\n",
       "      <th>0</th>\n",
       "      <td>1</td>\n",
       "      <td>75253.0</td>\n",
       "      <td>32.67</td>\n",
       "      <td>-96.61</td>\n",
       "      <td>1</td>\n",
       "      <td>Dallas</td>\n",
       "      <td>TX</td>\n",
       "      <td>Texas</td>\n",
       "      <td>US</td>\n",
       "      <td>Female</td>\n",
       "      <td>...</td>\n",
       "      <td>Unknown</td>\n",
       "      <td>02. Multiple Family Dwelling Unit</td>\n",
       "      <td>02. Unknown</td>\n",
       "      <td>02. Unknown</td>\n",
       "      <td>02. Less Stable</td>\n",
       "      <td>Unknown</td>\n",
       "      <td>1 Adult</td>\n",
       "      <td>18-25</td>\n",
       "      <td>20. Unknown</td>\n",
       "      <td>xxx@gmail.com</td>\n",
       "    </tr>\n",
       "    <tr>\n",
       "      <th>1</th>\n",
       "      <td>2</td>\n",
       "      <td>19147.0</td>\n",
       "      <td>39.94</td>\n",
       "      <td>-75.15</td>\n",
       "      <td>1</td>\n",
       "      <td>Philadelphia</td>\n",
       "      <td>PA</td>\n",
       "      <td>Pennsylvania</td>\n",
       "      <td>US</td>\n",
       "      <td>Male</td>\n",
       "      <td>...</td>\n",
       "      <td>Unknown</td>\n",
       "      <td>01. Single Family Dwelling Unit</td>\n",
       "      <td>02. Unknown</td>\n",
       "      <td>02. Unknown</td>\n",
       "      <td>01. Least Stable</td>\n",
       "      <td>1 Kid</td>\n",
       "      <td>1 Adult</td>\n",
       "      <td>41-60</td>\n",
       "      <td>05. $25,000 - $29,999</td>\n",
       "      <td>xxx@gmail.com</td>\n",
       "    </tr>\n",
       "  </tbody>\n",
       "</table>\n",
       "<p>2 rows × 30 columns</p>\n",
       "</div>"
      ],
      "text/plain": [
       "   ConsumerID      Zip  latitude  longitude  Audience Count          City  \\\n",
       "0           1  75253.0     32.67     -96.61               1        Dallas   \n",
       "1           2  19147.0     39.94     -75.15               1  Philadelphia   \n",
       "\n",
       "  State       Address Country  Gender  ...  Occupation  \\\n",
       "0    TX         Texas      US  Female  ...     Unknown   \n",
       "1    PA  Pennsylvania      US    Male  ...     Unknown   \n",
       "\n",
       "                        DwellingType WorkingWoman  GreenLiving  \\\n",
       "0  02. Multiple Family Dwelling Unit  02. Unknown  02. Unknown   \n",
       "1    01. Single Family Dwelling Unit  02. Unknown  02. Unknown   \n",
       "\n",
       "        CreditScore    #Kids  #Adults  AGEBIN       Household Income  \\\n",
       "0   02. Less Stable  Unknown  1 Adult   18-25            20. Unknown   \n",
       "1  01. Least Stable    1 Kid  1 Adult   41-60  05. $25,000 - $29,999   \n",
       "\n",
       "   Email Address  \n",
       "0  xxx@gmail.com  \n",
       "1  xxx@gmail.com  \n",
       "\n",
       "[2 rows x 30 columns]"
      ]
     },
     "execution_count": 4,
     "metadata": {},
     "output_type": "execute_result"
    }
   ],
   "source": [
    "file = \"db/leads_updated.csv\"\n",
    "df = pd.read_csv(file)\n",
    "df.head(2)"
   ]
  },
  {
   "cell_type": "code",
   "execution_count": null,
   "metadata": {},
   "outputs": [],
   "source": [
    "# Establish the connection \n",
    "rds_connection_string = f\"root:{db_pass}@127.0.0.1/new_leads_db\"\n",
    "engine = create_engine(f'mysql+pymysql://{rds_connection_string}')"
   ]
  },
  {
   "cell_type": "code",
   "execution_count": null,
   "metadata": {},
   "outputs": [],
   "source": []
  },
  {
   "cell_type": "code",
   "execution_count": null,
   "metadata": {},
   "outputs": [],
   "source": []
  }
 ],
 "metadata": {
  "kernelspec": {
   "display_name": "Python 3",
   "language": "python",
   "name": "python3"
  },
  "language_info": {
   "codemirror_mode": {
    "name": "ipython",
    "version": 3
   },
   "file_extension": ".py",
   "mimetype": "text/x-python",
   "name": "python",
   "nbconvert_exporter": "python",
   "pygments_lexer": "ipython3",
   "version": "3.7.2"
  }
 },
 "nbformat": 4,
 "nbformat_minor": 2
}
